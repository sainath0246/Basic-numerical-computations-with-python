{
 "cells": [
  {
   "cell_type": "code",
   "execution_count": 1,
   "id": "eb78d879",
   "metadata": {},
   "outputs": [
    {
     "data": {
      "text/plain": [
       "30"
      ]
     },
     "execution_count": 1,
     "metadata": {},
     "output_type": "execute_result"
    }
   ],
   "source": [
    "Z=max(10,30)\n",
    "Z"
   ]
  },
  {
   "cell_type": "code",
   "execution_count": 10,
   "id": "58482615",
   "metadata": {},
   "outputs": [
    {
     "name": "stdout",
     "output_type": "stream",
     "text": [
      "The HCF is 3\n"
     ]
    }
   ],
   "source": [
    "import random\n",
    "def HCF_numbs(a,b):\n",
    "    Z=max(a,b)\n",
    "    q=a\n",
    "    r=b\n",
    "    rem=random.randint(1,10)\n",
    "    for i in range(Z):\n",
    "        if(rem!=0):\n",
    "            rem=b%a\n",
    "            q=b/a\n",
    "            b=a\n",
    "            d=a\n",
    "            a=rem\n",
    "          \n",
    "        else:\n",
    "            return print(\"The HCF is\",d) \n",
    "HCF_numbs(9,33)"
   ]
  },
  {
   "cell_type": "code",
   "execution_count": 19,
   "id": "8adc7e4f",
   "metadata": {},
   "outputs": [
    {
     "data": {
      "text/plain": [
       "7"
      ]
     },
     "execution_count": 19,
     "metadata": {},
     "output_type": "execute_result"
    }
   ],
   "source": [
    "    import random \n",
    "    rem=random.randint(1,10)\n",
    "    rem"
   ]
  },
  {
   "cell_type": "code",
   "execution_count": 11,
   "id": "3790d1b3",
   "metadata": {},
   "outputs": [
    {
     "name": "stdout",
     "output_type": "stream",
     "text": [
      "The LCM  is 42.0\n"
     ]
    }
   ],
   "source": [
    "import random\n",
    "def LCM_numbs(a,b):\n",
    "    Z=max(a,b)\n",
    "    s=a\n",
    "    r=b\n",
    "    rem=random.randint(1,10)\n",
    "    for i in range(Z):\n",
    "        if(rem!=0):\n",
    "            rem=b%a\n",
    "            q=b/a\n",
    "            b=a\n",
    "            d=a\n",
    "            a=rem\n",
    "          \n",
    "        else:\n",
    "            return print(\"The LCM  is\",(s*r)/d )\n",
    "LCM_numbs(14,21)"
   ]
  },
  {
   "cell_type": "code",
   "execution_count": 30,
   "id": "423867c4",
   "metadata": {},
   "outputs": [
    {
     "name": "stdout",
     "output_type": "stream",
     "text": [
      "The HCF is 10\n"
     ]
    }
   ],
   "source": [
    "HCF_numbs(10,50)"
   ]
  },
  {
   "cell_type": "code",
   "execution_count": null,
   "id": "3b31d3ad",
   "metadata": {},
   "outputs": [],
   "source": []
  }
 ],
 "metadata": {
  "kernelspec": {
   "display_name": "Python 3",
   "language": "python",
   "name": "python3"
  },
  "language_info": {
   "codemirror_mode": {
    "name": "ipython",
    "version": 3
   },
   "file_extension": ".py",
   "mimetype": "text/x-python",
   "name": "python",
   "nbconvert_exporter": "python",
   "pygments_lexer": "ipython3",
   "version": "3.8.8"
  }
 },
 "nbformat": 4,
 "nbformat_minor": 5
}
