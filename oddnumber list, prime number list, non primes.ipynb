{
 "cells": [
  {
   "cell_type": "code",
   "execution_count": 1,
   "id": "31c9b4ee",
   "metadata": {},
   "outputs": [
    {
     "name": "stdout",
     "output_type": "stream",
     "text": [
      "Enter the range until which even no's have to be printed\n",
      "10\n",
      "The even numbers upto the range n [0, 2, 4, 6, 8]\n"
     ]
    }
   ],
   "source": [
    "#program to print even numbers in a list form\n",
    "a=[]\n",
    "def even_number(n):\n",
    "    for i in range(n):\n",
    "        if(i%2==0):\n",
    "            a.append(i)\n",
    "    return print('The even numbers upto the range n',a)\n",
    "n=int(input(\"Enter the range until which even no's have to be printed\\n\"))\n",
    "even_number(n)"
   ]
  },
  {
   "cell_type": "code",
   "execution_count": 2,
   "id": "51ca1531",
   "metadata": {},
   "outputs": [
    {
     "name": "stdout",
     "output_type": "stream",
     "text": [
      "Enter the range until which odd no's have to be printed\n",
      "10\n",
      "The list of odd numbers [1, 3, 5, 7, 9]\n"
     ]
    }
   ],
   "source": [
    "#Program to print odd numbers in a list form\n",
    "\n",
    "a=[]\n",
    "def odd_number(n):\n",
    "    for i in range(n):\n",
    "        if(i%2!=0):\n",
    "            a.append(i)\n",
    "    return print(\"The list of odd numbers\",a)\n",
    "n=int(input(\"Enter the range until which odd no's have to be printed\\n\"))\n",
    "odd_number(n)\n"
   ]
  },
  {
   "cell_type": "code",
   "execution_count": 10,
   "id": "bd549d96",
   "metadata": {},
   "outputs": [
    {
     "name": "stdout",
     "output_type": "stream",
     "text": [
      "Enter the range upto which prime numbers and non-prime numbers are to be printed20\n"
     ]
    },
    {
     "data": {
      "text/plain": [
       "('The list of non prime numbers and non-prime numbers is',\n",
       " [0, 4, 6, 8, 9, 10, 12, 14, 15, 16, 18],\n",
       " [[], [], 2, 3, 5, 7, 11, 13, 17, 19])"
      ]
     },
     "execution_count": 10,
     "metadata": {},
     "output_type": "execute_result"
    }
   ],
   "source": [
    "def List_prime_non_prime(n):\n",
    "    prime_numbers=[]\n",
    "    nonprime_numbers=[]\n",
    "    for i in range(n):\n",
    "        count=0\n",
    "        for j in range(2,(n//2)+1):\n",
    "            if(i%j==0):\n",
    "                count+=1\n",
    "                if(count>1):\n",
    "                    prime_numbers.append(i) \n",
    "                    break\n",
    "    g=[]\n",
    "    for i in range(n):\n",
    "        g.append(i)\n",
    "        g\n",
    "    g=[i for i  in g  if i!=[]]\n",
    "    nonprime_numbers=[item for item in g if item not in prime_numbers]\n",
    "                    \n",
    "    return ('The lists of non prime numbers and prime numbers respectiely is',prime_numbers,nonprime_numbers) \n",
    "\n",
    "n=int(input('Enter the range upto which prime numbers and non-prime numbers are to be printed'))\n",
    "Check_prime(n)\n",
    "                    \n",
    "                  \n",
    "                       "
   ]
  },
  {
   "cell_type": "code",
   "execution_count": null,
   "id": "0f3e31fe",
   "metadata": {},
   "outputs": [],
   "source": []
  },
  {
   "cell_type": "code",
   "execution_count": null,
   "id": "a0c884f0",
   "metadata": {},
   "outputs": [],
   "source": []
  }
 ],
 "metadata": {
  "kernelspec": {
   "display_name": "Python 3",
   "language": "python",
   "name": "python3"
  },
  "language_info": {
   "codemirror_mode": {
    "name": "ipython",
    "version": 3
   },
   "file_extension": ".py",
   "mimetype": "text/x-python",
   "name": "python",
   "nbconvert_exporter": "python",
   "pygments_lexer": "ipython3",
   "version": "3.8.8"
  }
 },
 "nbformat": 4,
 "nbformat_minor": 5
}
