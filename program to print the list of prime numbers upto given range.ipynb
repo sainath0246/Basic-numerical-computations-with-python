{
 "cells": [
  {
   "cell_type": "code",
   "execution_count": 10,
   "id": "30b7c7cc",
   "metadata": {},
   "outputs": [
    {
     "name": "stdout",
     "output_type": "stream",
     "text": [
      "1000\n",
      "The number of elements in the array are 168\n",
      "The list of prime numbers upto number 1000 is [2, 3, 5, 7, 11, 13, 17, 19, 23, 29, 31, 37, 41, 43, 47, 53, 59, 61, 67, 71, 73, 79, 83, 89, 97, 101, 103, 107, 109, 113, 127, 131, 137, 139, 149, 151, 157, 163, 167, 173, 179, 181, 191, 193, 197, 199, 211, 223, 227, 229, 233, 239, 241, 251, 257, 263, 269, 271, 277, 281, 283, 293, 307, 311, 313, 317, 331, 337, 347, 349, 353, 359, 367, 373, 379, 383, 389, 397, 401, 409, 419, 421, 431, 433, 439, 443, 449, 457, 461, 463, 467, 479, 487, 491, 499, 503, 509, 521, 523, 541, 547, 557, 563, 569, 571, 577, 587, 593, 599, 601, 607, 613, 617, 619, 631, 641, 643, 647, 653, 659, 661, 673, 677, 683, 691, 701, 709, 719, 727, 733, 739, 743, 751, 757, 761, 769, 773, 787, 797, 809, 811, 821, 823, 827, 829, 839, 853, 857, 859, 863, 877, 881, 883, 887, 907, 911, 919, 929, 937, 941, 947, 953, 967, 971, 977, 983, 991, 997]\t"
     ]
    }
   ],
   "source": [
    "#program to find out prime numbers\n",
    "def prime(n):\n",
    "    count=0\n",
    "    l=[]\n",
    "    for j in range(2,n):\n",
    "        d=j\n",
    "        for i in range(2,(j//2+1)):\n",
    "            if j%i==0:\n",
    "                l.append(j)\n",
    "                break\n",
    "    f=[]\n",
    "    for i in range(1,n):\n",
    "        f.append(i)\n",
    "    g=list(set(f).difference(l))\n",
    "    for i in range(len(g)):\n",
    "        count+=1\n",
    "    del g[0]\n",
    "    print(\"The number of elements in the array are\",count-1)\n",
    "    return g\n",
    "n=int(input())\n",
    "print(\"The list of prime numbers upto number\",n,\"is\",prime(n),end=\"\\t\")\n",
    "\n",
    "                    \n",
    "        "
   ]
  },
  {
   "cell_type": "code",
   "execution_count": 9,
   "id": "35e4845a",
   "metadata": {},
   "outputs": [
    {
     "name": "stdout",
     "output_type": "stream",
     "text": [
      "The factors of 44 are: [1, 2, 4, 11, 22, 44]\n"
     ]
    }
   ],
   "source": [
    "#program to find out prime numbers\n",
    "def factors(n):\n",
    "    count=0\n",
    "    l=[]\n",
    "    for i in range(1,n+1):\n",
    "        if n%i==0:\n",
    "            l.append(i)\n",
    "    return print(\"The factors of\", n,\"are:\",l)\n",
    "factors(44)\n",
    "        \n",
    "               \n",
    "   "
   ]
  },
  {
   "cell_type": "code",
   "execution_count": 91,
   "id": "878a7f13",
   "metadata": {},
   "outputs": [
    {
     "ename": "SyntaxError",
     "evalue": "invalid syntax (<ipython-input-91-d6a46176cc43>, line 1)",
     "output_type": "error",
     "traceback": [
      "\u001b[1;36m  File \u001b[1;32m\"<ipython-input-91-d6a46176cc43>\"\u001b[1;36m, line \u001b[1;32m1\u001b[0m\n\u001b[1;33m    for i in range(n)\u001b[0m\n\u001b[1;37m                     ^\u001b[0m\n\u001b[1;31mSyntaxError\u001b[0m\u001b[1;31m:\u001b[0m invalid syntax\n"
     ]
    }
   ],
   "source": [
    "for i in range(n)"
   ]
  },
  {
   "cell_type": "code",
   "execution_count": 125,
   "id": "255b092a",
   "metadata": {},
   "outputs": [
    {
     "ename": "NameError",
     "evalue": "name 'q' is not defined",
     "output_type": "error",
     "traceback": [
      "\u001b[1;31m---------------------------------------------------------------------------\u001b[0m",
      "\u001b[1;31mNameError\u001b[0m                                 Traceback (most recent call last)",
      "\u001b[1;32m<ipython-input-125-996617e96a38>\u001b[0m in \u001b[0;36m<module>\u001b[1;34m\u001b[0m\n\u001b[1;32m----> 1\u001b[1;33m \u001b[0mprint\u001b[0m\u001b[1;33m(\u001b[0m\u001b[0mq\u001b[0m\u001b[1;33m)\u001b[0m\u001b[1;33m\u001b[0m\u001b[1;33m\u001b[0m\u001b[0m\n\u001b[0m",
      "\u001b[1;31mNameError\u001b[0m: name 'q' is not defined"
     ]
    }
   ],
   "source": [
    "print(q)"
   ]
  },
  {
   "cell_type": "code",
   "execution_count": null,
   "id": "b3ab08bb",
   "metadata": {},
   "outputs": [],
   "source": []
  }
 ],
 "metadata": {
  "kernelspec": {
   "display_name": "Python 3",
   "language": "python",
   "name": "python3"
  },
  "language_info": {
   "codemirror_mode": {
    "name": "ipython",
    "version": 3
   },
   "file_extension": ".py",
   "mimetype": "text/x-python",
   "name": "python",
   "nbconvert_exporter": "python",
   "pygments_lexer": "ipython3",
   "version": "3.8.8"
  }
 },
 "nbformat": 4,
 "nbformat_minor": 5
}
